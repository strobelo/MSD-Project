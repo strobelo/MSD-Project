{
 "cells": [
  {
   "cell_type": "code",
   "execution_count": 51,
   "metadata": {
    "collapsed": false
   },
   "outputs": [],
   "source": [
    "import os\n",
    "import numpy as np\n",
    "from keras.models import Sequential\n",
    "from keras.layers import Dense, Activation\n",
    "import neuralnetworks as nn\n",
    "import time\n",
    "import matplotlib.pyplot as plt\n",
    "import multiprocessing as mp\n",
    "import itertools\n",
    "%matplotlib inline"
   ]
  },
  {
   "cell_type": "code",
   "execution_count": 2,
   "metadata": {
    "collapsed": true
   },
   "outputs": [],
   "source": [
    "def pickTargetVar(data,tIndex, names=None):\n",
    "    # usage: X, T, Xnames, Tname = pickTargetVar(data, tIndex, names)\n",
    "    T = data[:,tIndex:tIndex+1]\n",
    "    X = np.delete(data,tIndex,axis=1)\n",
    "    Tname = None\n",
    "    Xnames = None\n",
    "    if names:\n",
    "        Tname = names[tIndex]\n",
    "        Xnames = names[:]\n",
    "        Xnames.remove(names[tIndex])\n",
    "    return X, T, Xnames, Tname"
   ]
  },
  {
   "cell_type": "code",
   "execution_count": 3,
   "metadata": {
    "collapsed": true
   },
   "outputs": [],
   "source": [
    "def trainNN(X,T,parameters):\n",
    "    start = time.time()\n",
    "    print('training model...')\n",
    "    nnet = nn.NeuralNetwork(X.shape[1],parameters[0],T.shape[1])\n",
    "    model = nnet.train(X, T, nIterations=parameters[1])\n",
    "    print('trained model ',nnet,' for ',time.time()-start,'seconds')\n",
    "    return model"
   ]
  },
  {
   "cell_type": "code",
   "execution_count": 57,
   "metadata": {
    "collapsed": true
   },
   "outputs": [],
   "source": [
    "def trainNNWorker(params):\n",
    "    X, T, networkParameters = params\n",
    "    trainNN(X, T, networkParameters)"
   ]
  },
  {
   "cell_type": "code",
   "execution_count": 4,
   "metadata": {
    "collapsed": true
   },
   "outputs": [],
   "source": [
    "def evaluateNN(model,X,T):\n",
    "    Y = model.use(X)\n",
    "    return np.sqrt(np.mean((Y-T)**2))"
   ]
  },
  {
   "cell_type": "code",
   "execution_count": 5,
   "metadata": {
    "collapsed": true
   },
   "outputs": [],
   "source": [
    "def partitionData(X,T,trainRatio=0.8,shuffle=True):\n",
    "    #Usage: Xtrain, Ttrain, Xtest, Ttest = partitionData(X,T)\n",
    "    if trainRatio < 0 or trainRatio > 1:\n",
    "        raise ValueError('trainRatio must be between 0 and 1')\n",
    "    testRatio = 1-trainRatio\n",
    "    nTest = int(X.shape[0]*testRatio)\n",
    "    # Randomly arrange row indices\n",
    "    rowIndices = np.arange(X.shape[0])\n",
    "    if shuffle:\n",
    "        np.random.shuffle(rowIndices)\n",
    "    if nTest == 0:\n",
    "        raise ValueError(\"partitionKFolds: Number of samples in each fold is 0.\")\n",
    "    # Calculate the starting and stopping row index for each fold.\n",
    "    testRows = rowIndices[:nTest]\n",
    "    trainRows = rowIndices[nTest:]\n",
    "    Xtest = X[testRows]\n",
    "    Ttest = T[testRows]\n",
    "    Xtrain = X[trainRows]\n",
    "    Ttrain = T[trainRows]\n",
    "    return Xtrain,Ttrain,Xtest,Ttest"
   ]
  },
  {
   "cell_type": "code",
   "execution_count": null,
   "metadata": {
    "collapsed": true
   },
   "outputs": [],
   "source": [
    "labels = ['get_song_hotttnesss','get_danceability','get_energy','get_key','get_key_confidence','get_loudness','get_mode','get_mode_confidence','get_tempo','get_time_signature','get_time_signature_confidence']\n",
    "data = np.load('msdsub.npy')\n",
    "X,T,_,_ = pickTargetVar(data,0)\n",
    "Xtrain, Ttrain, Xtest, Ttest = partitionData(X,T)"
   ]
  },
  {
   "cell_type": "code",
   "execution_count": 19,
   "metadata": {
    "collapsed": false
   },
   "outputs": [
    {
     "name": "stdout",
     "output_type": "stream",
     "text": [
      "training model...\n",
      "trained model  NeuralNetwork(10, [32, 16, 8, 16, 32], 1)\n",
      "   Network was trained for 1001 iterations. Final error is 0.4722543124482114.  for  63.46709847450256 seconds\n"
     ]
    }
   ],
   "source": [
    "model = trainNN(Xtrain,Ttrain,[[32,16,8,16,32],1000])\n",
    "rmse = evaluateNN(model,Xtest,Ttest)"
   ]
  },
  {
   "cell_type": "code",
   "execution_count": 20,
   "metadata": {
    "collapsed": false,
    "scrolled": true
   },
   "outputs": [
    {
     "data": {
      "text/plain": [
       "[<matplotlib.lines.Line2D at 0x7f929eec2c50>]"
      ]
     },
     "execution_count": 20,
     "metadata": {},
     "output_type": "execute_result"
    },
    {
     "data": {
      "image/png": "[encoded data removed]",
      "text/plain": [
       "<matplotlib.figure.Figure at 0x7f929efd1c18>"
      ]
     },
     "metadata": {},
     "output_type": "display_data"
    }
   ],
   "source": [
    "plt.plot(model.getErrorTrace())"
   ]
  },
  {
   "cell_type": "code",
   "execution_count": 32,
   "metadata": {
    "collapsed": false
   },
   "outputs": [
    {
     "name": "stdout",
     "output_type": "stream",
     "text": [
      "training model...\n",
      "trained model  NeuralNetwork(10, [128, 64, 32, 64, 128], 1)\n",
      "   Network was trained for 2001 iterations. Final error is 0.43082969377085323.  for  578.8522765636444 seconds\n"
     ]
    }
   ],
   "source": [
    "model = trainNN(Xtrain,Ttrain,[[128,64,32,64,128],2000])\n",
    "rmse = evaluateNN(model,Xtest,Ttest)"
   ]
  },
  {
   "cell_type": "code",
   "execution_count": 33,
   "metadata": {
    "collapsed": false
   },
   "outputs": [
    {
     "data": {
      "text/plain": [
       "[<matplotlib.lines.Line2D at 0x7f929ec429b0>]"
      ]
     },
     "execution_count": 33,
     "metadata": {},
     "output_type": "execute_result"
    },
    {
     "data": {
      "image/png": "[encoded data removed]",
      "text/plain": [
       "<matplotlib.figure.Figure at 0x7f929ecdcf28>"
      ]
     },
     "metadata": {},
     "output_type": "display_data"
    }
   ],
   "source": [
    "plt.plot(model.getErrorTrace())"
   ]
  },
  {
   "cell_type": "code",
   "execution_count": 34,
   "metadata": {
    "collapsed": true
   },
   "outputs": [],
   "source": [
    "rmse = evaluateNN(model, Xtest, Ttest)"
   ]
  },
  {
   "cell_type": "code",
   "execution_count": 35,
   "metadata": {
    "collapsed": false
   },
   "outputs": [
    {
     "data": {
      "text/plain": [
       "0.3708627411513859"
      ]
     },
     "execution_count": 35,
     "metadata": {},
     "output_type": "execute_result"
    }
   ],
   "source": [
    "rmse"
   ]
  },
  {
   "cell_type": "code",
   "execution_count": 43,
   "metadata": {
    "collapsed": true
   },
   "outputs": [],
   "source": [
    "parms = [[[5,3,5],1000],[[10,5,10],1000]]"
   ]
  },
  {
   "cell_type": "code",
   "execution_count": 38,
   "metadata": {
    "collapsed": false,
    "scrolled": true
   },
   "outputs": [
    {
     "name": "stdout",
     "output_type": "stream",
     "text": [
      "0.981538313786 1.7125215935e-07 0.745732174764\n",
      "2.02620696034 1.65249347435e-08 0.745732174764\n",
      "3.4606505468 7.11566909803e-12 0.745732174764\n"
     ]
    },
    {
     "data": {
      "image/png": "[encoded data removed]",
      "text/plain": [
       "<matplotlib.figure.Figure at 0x7f929ec597b8>"
      ]
     },
     "metadata": {},
     "output_type": "display_data"
    }
   ],
   "source": [
    "model.draw()"
   ]
  },
  {
   "cell_type": "code",
   "execution_count": 62,
   "metadata": {
    "collapsed": false
   },
   "outputs": [],
   "source": [
    "networkStructures = [[[5, 3, 5], 1], [[10, 5, 10], 1]]\n",
    "iterations = [100, 200]\n",
    "networkParams = itertools.product(networkStructures, iterations)"
   ]
  },
  {
   "cell_type": "code",
   "execution_count": 64,
   "metadata": {
    "collapsed": false
   },
   "outputs": [],
   "source": [
    "params = []\n",
    "for k in networkParams:\n",
    "    params.append([Xtrain, Ttrain, k])"
   ]
  },
  {
   "cell_type": "code",
   "execution_count": 68,
   "metadata": {
    "collapsed": false
   },
   "outputs": [
    {
     "name": "stdout",
     "output_type": "stream",
     "text": [
      "[]\n"
     ]
    }
   ],
   "source": [
    "if __name__ == '__main__':\n",
    "    pool = mp.Pool()\n",
    "    results = pool.map(trainNNWorker, params)\n",
    "    print(results)"
   ]
  },
  {
   "cell_type": "code",
   "execution_count": null,
   "metadata": {
    "collapsed": true
   },
   "outputs": [],
   "source": []
  }
 ],
 "metadata": {
  "kernelspec": {
   "display_name": "Python 3",
   "language": "python",
   "name": "python3"
  },
  "language_info": {
   "codemirror_mode": {
    "name": "ipython",
    "version": 3
   },
   "file_extension": ".py",
   "mimetype": "text/x-python",
   "name": "python",
   "nbconvert_exporter": "python",
   "pygments_lexer": "ipython3",
   "version": "3.6.0"
  }
 },
 "nbformat": 4,
 "nbformat_minor": 2
}
