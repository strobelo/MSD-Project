{
 "cells": [
  {
   "cell_type": "markdown",
   "metadata": {},
   "source": [
    "$$\\newcommand{\\Rv}{\\mathbf{R}}\n",
    "\\newcommand{\\rv}{\\mathbf{r}}\n",
    "\\newcommand{\\Qv}{\\mathbf{Q}}\n",
    "\\newcommand{\\Qnv}{\\mathbf{Qn}}\n",
    "\\newcommand{\\Av}{\\mathbf{A}}\n",
    "\\newcommand{\\Aiv}{\\mathbf{Ai}}\n",
    "\\newcommand{\\av}{\\mathbf{a}}\n",
    "\\newcommand{\\xv}{\\mathbf{x}}\n",
    "\\newcommand{\\Xv}{\\mathbf{X}}\n",
    "\\newcommand{\\yv}{\\mathbf{y}}\n",
    "\\newcommand{\\Yv}{\\mathbf{Y}}\n",
    "\\newcommand{\\zv}{\\mathbf{z}}\n",
    "\\newcommand{\\av}{\\mathbf{a}}\n",
    "\\newcommand{\\Wv}{\\mathbf{W}}\n",
    "\\newcommand{\\wv}{\\mathbf{w}}\n",
    "\\newcommand{\\betav}{\\mathbf{\\beta}}\n",
    "\\newcommand{\\gv}{\\mathbf{g}}\n",
    "\\newcommand{\\Hv}{\\mathbf{H}}\n",
    "\\newcommand{\\dv}{\\mathbf{d}}\n",
    "\\newcommand{\\Vv}{\\mathbf{V}}\n",
    "\\newcommand{\\vv}{\\mathbf{v}}\n",
    "\\newcommand{\\Uv}{\\mathbf{U}}\n",
    "\\newcommand{\\uv}{\\mathbf{u}}\n",
    "\\newcommand{\\tv}{\\mathbf{t}}\n",
    "\\newcommand{\\Tv}{\\mathbf{T}}\n",
    "\\newcommand{\\TDv}{\\mathbf{TD}}\n",
    "\\newcommand{\\Tiv}{\\mathbf{Ti}}\n",
    "\\newcommand{\\Sv}{\\mathbf{S}}\n",
    "\\newcommand{\\Gv}{\\mathbf{G}}\n",
    "\\newcommand{\\zv}{\\mathbf{z}}\n",
    "\\newcommand{\\Zv}{\\mathbf{Z}}\n",
    "\\newcommand{\\Norm}{\\mathcal{N}}\n",
    "\\newcommand{\\muv}{\\boldsymbol{\\mu}}\n",
    "\\newcommand{\\sigmav}{\\boldsymbol{\\sigma}}\n",
    "\\newcommand{\\phiv}{\\boldsymbol{\\phi}}\n",
    "\\newcommand{\\Phiv}{\\boldsymbol{\\Phi}}\n",
    "\\newcommand{\\Sigmav}{\\boldsymbol{\\Sigma}}\n",
    "\\newcommand{\\Lambdav}{\\boldsymbol{\\Lambda}}\n",
    "\\newcommand{\\half}{\\frac{1}{2}}\n",
    "\\newcommand{\\argmax}[1]{\\underset{#1}{\\operatorname{argmax}}}\n",
    "\\newcommand{\\argmin}[1]{\\underset{#1}{\\operatorname{argmin}}}\n",
    "\\newcommand{\\dimensionbar}[1]{\\underset{#1}{\\operatorname{|}}}\n",
    "\\newcommand{\\grad}{\\mathbf{\\nabla}}\n",
    "\\newcommand{\\ebx}[1]{e^{\\betav_{#1}^T \\xv_n}}\n",
    "\\newcommand{\\eby}[1]{e^{y_{n,#1}}}\n",
    "\\newcommand{\\Tiv}{\\mathbf{Ti}}\n",
    "\\newcommand{\\Fv}{\\mathbf{F}}\n",
    "\\newcommand{\\ones}[1]{\\mathbf{1}_{#1}}\n",
    "$$"
   ]
  },
  {
   "cell_type": "markdown",
   "metadata": {},
   "source": [
    "# Reinforcement Learning with Neural Network as Q Function"
   ]
  },
  {
   "cell_type": "markdown",
   "metadata": {},
   "source": [
    "## Reinforcement Learning Objective"
   ]
  },
  {
   "cell_type": "markdown",
   "metadata": {},
   "source": [
    "The objective for any reinforcement learning problem is to\n",
    "find the sequence of actions that maximizes (or minimizes) the sum\n",
    "of reinforcements along the sequence.\n",
    "This is reduced to the objective of acquiring the Q function the\n",
    "predicts the expected sum of future reinforcements, because the\n",
    "correct Q function\n",
    "determines the optimal next action.\n",
    "\n",
    "So, the RL objective is to make this approximation as accuracte as possible:\n",
    "\n",
    "$$\n",
    "    \\begin{align*}\n",
    "      Q(s_t,a_t) \\approx \\sum_{k=0}^\\infty r_{t+k+1}\n",
    "    \\end{align*}\n",
    "$$\n",
    "\n",
    "This is usually formulated as the least squares objective\n",
    "\n",
    "$$\n",
    "    \\begin{align*}\n",
    "      \\text{Minimize } \\mathrm{E} \\left ( \\sum_{k=0}^\\infty r_{t+k+1} - Q(s_t,a_t)\\right )^2\n",
    "    \\end{align*}\n",
    "$$\n",
    "\n",
    "What is that expectation taken over?\n",
    "\n",
    "Sources of randomness:\n",
    "\n",
    "   * action selection\n",
    "   * state transitions\n",
    "   * reinforcement received\n",
    "\n",
    "Of course, the key problem is that we don't know $\\sum_{k=0}^\\infty r_{t+k+1}$. What do we do?\n",
    "\n",
    "Approximate it by \n",
    "\n",
    "$$\n",
    "    \\begin{align*}\n",
    "      \\sum_{k=0}^\\infty r_{t+k+1}  = & r_{t+1} + \\sum_{k=1}^\\infty r_{t+k+1}\\\\\n",
    "       = & r_{t+1} + \\sum_{k=0}^\\infty r_{t+1+k+1}\\\\\n",
    "       \\approx & r_{t+1} + Q(s_{t+1},a_{t+1})\n",
    "    \\end{align*}\n",
    "$$"
   ]
  },
  {
   "cell_type": "markdown",
   "metadata": {},
   "source": [
    "## Gradient of Objective"
   ]
  },
  {
   "cell_type": "markdown",
   "metadata": {},
   "source": [
    "Now our minimization problem is the following.  Let $Q$ be a\n",
    "parameterized function, with parameters $\\wv$.  How do we try to\n",
    "minimize it? \n",
    "\n",
    "$$\n",
    "    \\begin{align*}\n",
    "      \\text{Minimize }  J(\\wv)  &= \\mathrm{E} \\left ( \\sum_{k=0}^\\infty r_{t+k+1} - Q(s_t,a_t;\\wv)\\right )^2\\\\\n",
    "      & = \\mathrm{E} \\Bigl ( r_{t+1} + Q(s_{t+1},a_{t+1};\\wv) - Q(s_t,a_t;\\wv) \\Bigr )^2\n",
    "    \\end{align*}\n",
    "$$\n",
    "\n",
    "\n",
    "Right!  Take the gradient of $J(\\wv)$ with respect to $\\wv$ and do\n",
    "gradient descent.  $Q$ appears twice in this expression.  A very\n",
    "common approach is to only take the gradient with respect to\n",
    "$Q(s_t,a_t;\\wv)$ and treat $Q(s_{t+1},a_{t+1};\\wv)$ as constant. Not\n",
    "correct, but works well and simplifies the resulting algorithm.\n",
    "\n",
    "Recall that the expectation operator is a sum of possible values,\n",
    "weighted by their probabilities.  If $d$ is the value on the top\n",
    "of a (fair) dice, \n",
    "\n",
    "$$\n",
    "    \\begin{align*}\n",
    "      \\mathrm{E} (d) = \\frac{1}{6} 1 + \\frac{1}{6} 2 + \\frac{1}{6} 3 + \\frac{1}{6} 4 + \\frac{1}{6} 5 + \\frac{1}{6} 6\n",
    "    \\end{align*}\n",
    "$$\n",
    "\n",
    "So the gradient of an expected value is the expected value of the gradients.\n",
    "\n",
    "$$\n",
    "    \\begin{align*}\n",
    "      \\grad_{\\wv}  J(\\wv) = \n",
    "       2 \\mathrm{E} \\Bigl ( r_{t+1} + Q(s_{t+1},a_{t+1};\\wv) - Q(s_t,a_t;\\wv) \\Bigr ) (-1) \\grad_{\\wv} Q(s_t,a_t,;\\wv)\n",
    "    \\end{align*}\n",
    "$$\n",
    "\n",
    "The expectation operator requires knowledge of the probabilities of\n",
    "all of those random effects.  Instead, we will just sample the world.   \n",
    "\n",
    "More probable events will take place more often.  If we just add updates to $\\wv$ for each sample, we effectively have done the expectation."
   ]
  },
  {
   "cell_type": "markdown",
   "metadata": {},
   "source": [
    "## Gradient for Q function as Table"
   ]
  },
  {
   "cell_type": "markdown",
   "metadata": {},
   "source": [
    "What is the gradient with $Q$ is a table, like the maze and the tic-tac-toe problem?\n",
    "We must first decide what the $\\wv$ parameters are for a table.\n",
    "\n",
    "They are just the entries in the table.  Can formulate the selection\n",
    "of the correct parameter in the table as a dot product. \n",
    "\n",
    "Let $\\xv_t$ be a column vector of length equal to the number of table\n",
    "cells and with values that are all 0's and a single 1.  The 1\n",
    "designates the cell corresponding to $s_t$ and $a_t$. Then\n",
    "\n",
    "$$\n",
    "    \\begin{align*}\n",
    "      Q(s_t,a_t;\\wv) = \\xv_t^T \\wv\n",
    "    \\end{align*}\n",
    "$$\n",
    "\n",
    "So, \n",
    "\n",
    "$$\n",
    "    \\begin{align*}\n",
    "      \\grad_{\\wv} Q(s_t,a_t;\\wv) &= \\grad_{\\wv} (\\xv_t^T \\wv)\\\\\n",
    "      & = \\xv_t\n",
    "    \\end{align*}\n",
    "$$\n",
    "\n",
    "\n",
    "Let's define the temporal-difference error to be $\\delta_t$\n",
    "\n",
    "$$\n",
    "    \\begin{align*}\n",
    "      \\delta_t &= r_{t+1} + Q(s_{t+1},a_{t+1};\\wv) - Q(s_t,a_t;\\wv)\n",
    "    \\end{align*}\n",
    "$$\n",
    "\n",
    "Now\n",
    "\n",
    "$$\n",
    "    \\begin{align*}\n",
    "      \\grad_{\\wv} J(\\wv) & = 2 \\mathrm{E} \\Bigl ( \\delta_t  (-1) \\grad_{\\wv} Q(s_t,a_t,;\\wv) \\Bigr )\\\\\n",
    "      & = -2 \\mathrm{E} (\\delta_t  \\xv_t)\\\\\n",
    "      & = \\begin{cases}\n",
    "        -2 \\mathrm{E} (\\delta_t) , & \\text{ for cell for } s_t, a_t;\\\\\n",
    "        0, & \\text{ for all other cells}\n",
    "      \\end{cases}\n",
    "    \\end{align*}\n",
    "$$\n",
    "\n",
    "Replacing the expectation with samples, we get the TD update rule for Q tables\n",
    "\n",
    "$$\n",
    "    \\begin{align*}\n",
    "      \\wv &\\leftarrow \\wv - \\grad_{\\wv} J(\\wv)\\\\\n",
    "       &\\leftarrow \\wv + \\rho \\delta_t \\xv_t\n",
    "    \\end{align*}\n",
    "$$\n",
    "\n",
    "which is really the same as what we have seen before,\n",
    "\n",
    "$$\n",
    "    \\begin{align*}\n",
    "      Q(s_t,a_t)  &\\leftarrow Q(s_t,a_t)  + \\rho \\delta_t\n",
    "%%      Q(s_t,a_t)  &\\leftarrow Q(s_t,a_t)  + \\rho \\Bigl (r_{t+1} + Q(s_{t+1},a_{t+1};\\wv) - Q(s_t,a_t;\\wv)\\Bigr )\n",
    "    \\end{align*}\n",
    "$$\n",
    "\n",
    "where the update to just the $s_t,a_t$ cell of Q was implicit."
   ]
  },
  {
   "cell_type": "markdown",
   "metadata": {},
   "source": [
    "## Gradient for Q function as Neural Network"
   ]
  },
  {
   "cell_type": "markdown",
   "metadata": {},
   "source": [
    "Using a table for Q has limited use.  \n",
    "\n",
    "   * Size of table might be too big.\n",
    "   * Learning could be slow.  Experience in one cell does not transfer to other cells.\n",
    "\n",
    "Let's use a different function approximator.  Uhhh...what shall we use?\n",
    "\n",
    "Brilliant!   A neural network! What has to change in our derivation of the gradient?\n",
    "\n",
    "We want to approximate $Q(s_t,a_t;\\wv)$ with a neural network.  The\n",
    "values of $\\wv$ are the $V$ and $W$ weights. \n",
    "\n",
    "Looks like the neural network will have a single output value and inputs for $s_t$ and $a_t$.  To find best action, we would input $s_t$ and try all possible actions $a_t$, calculating the\n",
    "output of the network for each.  Then pick the action that produces the best neural network output.\n",
    "\n",
    "Remember the objective function that we wish to minimize,\n",
    "\n",
    "$$\n",
    "    \\begin{align*}\n",
    "      \\text{Minimize }  J(\\wv)  &= \\mathrm{E} \\left ( \\sum_{k=0}^\\infty r_{t+k+1} - Q(s_t,a_t;\\wv)\\right )^2\\\\\n",
    "      & = \\mathrm{E} \\Bigl ( r_{t+1} + Q(s_{t+1},a_{t+1};\\wv) - Q(s_t,a_t;\\wv) \\Bigr )^2,\n",
    "    \\end{align*}\n",
    "$$\n",
    "\n",
    "and its gradient, which is\n",
    "\n",
    "$$\n",
    "    \\begin{align*}\n",
    "      \\grad_{\\wv}  J(\\wv) = \n",
    "       2 \\mathrm{E} \\Bigl ( r_{t+1} + Q(s_{t+1},a_{t+1};\\wv) - Q(s_t,a_t;\\wv) \\Bigr ) (-1) \\grad_{\\wv} Q(s_t,a_t,;\\wv).\n",
    "    \\end{align*}\n",
    "$$\n",
    "\n",
    "We replace the expectation operator with samples, at time $t$.\n",
    "\n",
    "$$\n",
    "    \\begin{align*}\n",
    "      \\grad_{\\wv_t}  J(\\wv_t) = \n",
    "       -2 \\Bigl ( r_{t+1} + Q(s_{t+1},a_{t+1};\\wv_t) - Q(s_t,a_t;\\wv_t) \\Bigr ) \\grad_{\\wv_t} Q(s_t,a_t,;\\wv_t).\n",
    "    \\end{align*}\n",
    "$$\n",
    "\n",
    "\n",
    "What remains is to calculate \n",
    "\n",
    "$$\n",
    "    \\begin{align*}\n",
    "     \\grad_{\\wv_t} Q(s_t,a_t,;\\wv_t).\n",
    "    \\end{align*}\n",
    "$$\n",
    "\n",
    "but we have seen this before, when calculating the gradient of the output of a neural network with respect to its weights, $\\wv = (V,W)$.  So, the only change to our previous algorithm for training a neural network to do nonlinear regression is that we use the temporal-difference error rather than the target-output error.\n",
    "\n",
    "Here are the gradient descent updates we had for nonlinear regression neural networks.\n",
    "\n",
    "$$\n",
    "    \\begin{align*}\n",
    "      \\Zv &= h(\\tilde{\\Xv} \\Vv)\\\\\n",
    "      \\Yv &= \\tilde{\\Zv} \\Wv\\\\\n",
    "       \\Vv & \\leftarrow \\Vv + \\rho_h \\frac{1}{N} \\frac{1}{K} \\tilde{\\Xv}^T \\left ( (\\Tv - \\Yv) \\hat{\\Wv}^T \\cdot  (1-\\Zv^2) \\right )\\\\\n",
    "      \\Wv & \\leftarrow \\Wv + \\rho_o \\frac{1}{N}\\frac{1}{K} \\tilde{\\Zv}^T (\\Tv - \\Yv)\n",
    "      \\end{align*}\n",
    "$$\n",
    "\n",
    "The key change we need to make is in the error.  Our targets are now given by a reinforcement plus the next step predicted Q values.  Must assemble a bunch of samples into matrices.  \n",
    "\n",
    "Multiple $s_t, a_t$ tuples will be collected as rows in $\\Xv$, which, when passed through the neural network, produce $\\Zv$ and $\\Yv = \\Qv$, because the output $\\Yv$ of the network we are taking as our $Q$ value, the estimate of the expected return.  \n",
    "\n",
    "Reinforcements received, $r_{t+1}$'s, will be collected as rows of $\\Rv$. \n",
    "\n",
    "Now just need $Q(s_{t+1},a_{t+1})$'s.  These are really like rows of $\\Yv$ shifted up by one row, which we will call $\\Qnv$, for $Q_{\\mbox{next}}$.\n",
    "\n",
    "Now we can rewrite the gradient descent updates.  Assume\n",
    "we have $\\Xv$, $\\Rv$, $\\Qnv$, $\\Qv$, all but $\\Xv$\n",
    "having one column.\n",
    "\n",
    "$$\n",
    "    \\begin{align*}\n",
    "      \\TDv &= \\Rv + \\Qnv - \\Qv\\\\\n",
    "      \\Zv &= \\tanh(\\tilde{\\Xv} \\Vv)\\\\\n",
    "      \\Vv & \\leftarrow \\Vv + \\rho_h \\frac{1}{N} \\tilde{\\Xv}^T \\left ( \\TDv\\; \\hat{\\Wv}^T \\cdot  (1-\\Zv^2) \\right )\\\\\n",
    "      \\Wv & \\leftarrow \\Wv + \\rho_o \\frac{1}{N} \\tilde{\\Zv}^T \\;\\TDv\n",
    "      \\end{align*}\n",
    "$$"
   ]
  },
  {
   "cell_type": "markdown",
   "metadata": {},
   "source": [
    "## Dealing with Infinite Sums"
   ]
  },
  {
   "cell_type": "markdown",
   "metadata": {},
   "source": [
    "For non-episodic tasks (no final state), the desired sum of\n",
    "reinforcements is over an infinite future.\n",
    "\n",
    "This will grow to infinity unless forced to be a finite\n",
    "value. Will use common approach of **discounting** reinforcements,\n",
    "discounting ones more \n",
    "that occur further into the future.\n",
    "\n",
    "$$\n",
    "    \\begin{align*}\n",
    "      Q(s_t,a_t) &= \\sum_{k=0}^{\\infty} \\gamma^k r_{t+k+1}, \\text{ for\n",
    "      } 0 < \\gamma  < 1.\n",
    "    \\end{align*}\n",
    "$$\n",
    "\n",
    "We must introduce this discounting into the objective function\n",
    "\n",
    "$$\n",
    "    \\begin{align*}\n",
    "      \\text{Minimize }  J(\\wv)  &= \\mathrm{E} \\left (\n",
    "      \\sum_{k=0}^\\infty \\gamma^k r_{t+k+1} - Q(s_t,a_t;\\wv)\\right )^2\\\\\n",
    "      & = \\mathrm{E} \\Bigl ( \\gamma^0 r_{t+1} + \\sum_{k=1}^\\infty \\gamma^k r_{t+k+1} - Q(s_t,a_t;\\wv) \\Bigr )^2\\\\\n",
    "      & = \\mathrm{E} \\Bigl ( \\gamma^0 r_{t+1} + \\sum_{k=0}^\\infty \\gamma^{k+1} r_{t+k+1+1} - Q(s_t,a_t;\\wv) \\Bigr )^2\\\\\n",
    "      & = \\mathrm{E} \\Bigl ( \\gamma^0 r_{t+1} + \\gamma \\sum_{k=0}^\\infty \\gamma^k r_{t+k+1+1} - Q(s_t,a_t;\\wv) \\Bigr )^2\\\\\n",
    "      & = \\mathrm{E} \\Bigl ( r_{t+1} + \\gamma Q(s_{t+1},a_{t+1};\\wv) - Q(s_t,a_t;\\wv) \\Bigr )^2\n",
    "    \\end{align*}\n",
    "$$\n",
    "\n",
    "So, we simply add the multiplication by $\\gamma$ to the next\n",
    "state-action Q value in the temporal-difference error."
   ]
  },
  {
   "cell_type": "markdown",
   "metadata": {},
   "source": [
    "## Using Batch-Oriented Algorithm for Non-Stationary Learning Task"
   ]
  },
  {
   "cell_type": "markdown",
   "metadata": {},
   "source": [
    "These are batch updates, remember?  Before, we had all input and\n",
    "target samples in $\\Xv$ and $\\Tv$.   Now one set of samples are collected for one set of weight values, meaning for one Q function.\n",
    "\n",
    "After updates, we have a new Q function, which will produce different\n",
    "actions.  So what?  \n",
    "\n",
    "We must repeat the steps:\n",
    "\n",
    "   * Generate $N$ samples.\n",
    "   * Update $\\Vv$ and $\\Wv$.\n",
    "\n",
    "in small-ish batches.  Also, must not train for too many iterations each time.  If we do train to convergence each time, the neural network can forget everything it learned from previous samples."
   ]
  },
  {
   "cell_type": "markdown",
   "metadata": {},
   "source": [
    "## 1-D Maze Example"
   ]
  },
  {
   "cell_type": "markdown",
   "metadata": {},
   "source": [
    "\n",
    "Imagine a chain of states, numbered 1 through 10.  From any state you\n",
    "can move left by one state, stay put, or move right.  Moves off the\n",
    "ends are not permitted.  The goal is to be in state 5.  Let's assign\n",
    "reinforcements of -1 for every move except ones that result in being\n",
    "in state 5, for which you get reinforcmement of 0.  This will drive\n",
    "the agent to get to state 5 as quickly as possible.\n",
    "\n",
    "![image](http://www.cs.colostate.edu/~anderson/cs480/notebooks/rlstatechain.png)\n",
    "\n",
    "\n",
    "So, the state is an integer from 1 through 10. Let's approximate the Q function by  a  neural network\n",
    "with 2 inputs for the integer state and the integer action, 6 hidden units, and 1 output.\n",
    "\n",
    "\n",
    "$$\n",
    "    \\begin{align*}\n",
    "    s_t &\\in \\{1,2,3,4,5,6,7,8,9,10\\}\\\\[3mm]\n",
    "    a_t &= \\begin{cases}\n",
    "           -1; \\text{ for action left},\\\\\n",
    "           0; \\text{ for action stay},\\\\\n",
    "           1; \\text{ for action right}\n",
    "           \\end{cases}\\\\[3mm]\n",
    "    s_{t+1} &= s_t + a_t\\;\\;\\; \\text{bounded to be between 1 and 10}\n",
    "    \\end{align*}\n",
    "$$\n",
    "\n",
    "\n",
    "\n",
    "![image](http://www.cs.colostate.edu/~anderson/cs480/notebooks/nntwolayerq.png)\n",
    "\n",
    "\n",
    "![image](http://www.cs.colostate.edu/~anderson/cs480/notebooks/1dmazenn.png)"
   ]
  },
  {
   "cell_type": "code",
   "execution_count": 1,
   "metadata": {},
   "outputs": [
    {
     "name": "stdout",
     "output_type": "stream",
     "text": [
      "--2017-04-11 12:20:05--  http://www.cs.colostate.edu/~anderson/cs480/notebooks/nn5.tar\n",
      "Resolving www.cs.colostate.edu (www.cs.colostate.edu)... 129.82.45.114\n",
      "Connecting to www.cs.colostate.edu (www.cs.colostate.edu)|129.82.45.114|:80... connected.\n",
      "HTTP request sent, awaiting response... 200 OK\n",
      "Length: 81920 (80K) [application/x-tar]\n",
      "Saving to: ‘nn5.tar.1’\n",
      "\n",
      "nn5.tar.1           100%[===================>]  80.00K  --.-KB/s    in 0.005s  \n",
      "\n",
      "2017-04-11 12:20:05 (16.0 MB/s) - ‘nn5.tar.1’ saved [81920/81920]\n",
      "\n",
      "neuralnetworksbylayer.py\n",
      "layers.py\n",
      "scaledconjugategradient.py\n",
      "mlutils.py\n"
     ]
    }
   ],
   "source": [
    "!wget http://www.cs.colostate.edu/~anderson/cs480/notebooks/nn5.tar\n",
    "!tar xvf nn5.tar"
   ]
  },
  {
   "cell_type": "code",
   "execution_count": 2,
   "metadata": {},
   "outputs": [],
   "source": [
    "import numpy as np\n",
    "import matplotlib.pyplot as plt\n",
    "%matplotlib inline\n",
    "import random\n",
    "import neuralnetworksbylayer as nn "
   ]
  },
  {
   "cell_type": "markdown",
   "metadata": {},
   "source": [
    "Available actions step left, stay put, and step right.  Represented as change in position, they are"
   ]
  },
  {
   "cell_type": "code",
   "execution_count": 3,
   "metadata": {},
   "outputs": [],
   "source": [
    "validActions = [-1, 0, 1]"
   ]
  },
  {
   "cell_type": "markdown",
   "metadata": {},
   "source": [
    "Now let's define our epsilon-greedy function."
   ]
  },
  {
   "cell_type": "code",
   "execution_count": 4,
   "metadata": {},
   "outputs": [],
   "source": [
    "def epsilonGreedy(nnetQ, state, validActions, epsilon):\n",
    "    if np.random.uniform() < epsilon:\n",
    "        # Random Move\n",
    "        action = np.random.choice(validActions)\n",
    "    else:\n",
    "        # Greedy Move\n",
    "        actionsRandomlyOrdered = random.sample(validActions, len(validActions))\n",
    "        Qs = [nnetQ.use(np.array([[state,a]])) for a in actionsRandomlyOrdered]\n",
    "        ai = np.argmax(Qs)\n",
    "        action = actionsRandomlyOrdered[ai]\n",
    "    Q = nnetQ.use(np.array([[state,action]]))\n",
    "    return action, Q"
   ]
  },
  {
   "cell_type": "markdown",
   "metadata": {},
   "source": [
    "Now we need a function, `makeSamples`, for collecting a bunch of samples of state, action, reinforcement, next state, next actions.  We can make this function generic by passing in functions to create the initial state, the next state, and the reinforcement value."
   ]
  },
  {
   "cell_type": "code",
   "execution_count": 5,
   "metadata": {
    "collapsed": true
   },
   "outputs": [],
   "source": [
    "def initialState():\n",
    "    return np.random.randint(1,11)\n",
    "\n",
    "def nextState(s, a):\n",
    "    newstate = min(max(1,s+a), 10)\n",
    "    features = newstate  # can create features of state, instead of directly using state here\n",
    "    return newstate, features\n",
    "\n",
    "def reinf(s, sn):  # next state\n",
    "    return 0 if sn is 5 else -1"
   ]
  },
  {
   "cell_type": "code",
   "execution_count": 6,
   "metadata": {
    "collapsed": true
   },
   "outputs": [],
   "source": [
    "def makeSamples(nnet, initialStateF, nextStateF, reinforcementF,\n",
    "                validActions, numSamples, epsilon):\n",
    "\n",
    "    X = np.zeros((numSamples, nnet.layers[0].nInputs))\n",
    "    R = np.zeros((numSamples, 1))\n",
    "    Qn = np.zeros((numSamples, 1))\n",
    "\n",
    "    s = initialStateF()\n",
    "    s, features = nextStateF(s, 0)        # Update state, sn from s and a\n",
    "    a, _ = epsilonGreedy(nnet, s, validActions, epsilon)\n",
    "\n",
    "    # Collect data from numSamples steps\n",
    "    for step in range(numSamples):\n",
    "        sn, featuresn = nextStateF(s, a)        # Update state, sn from s and a\n",
    "        rn = reinforcementF(s, sn)   # Calculate resulting reinforcement\n",
    "        an, qn = epsilonGreedy(nnet, featuresn, validActions, epsilon) # Forward pass for time t+1\n",
    "        X[step, :] = (features, a)\n",
    "        R[step, 0] = rn\n",
    "        Qn[step, 0] = qn\n",
    "        # Advance one time step\n",
    "        s, features, a = sn, featuresn, an\n",
    "\n",
    "    return (X, R, Qn)"
   ]
  },
  {
   "cell_type": "code",
   "execution_count": 7,
   "metadata": {},
   "outputs": [],
   "source": [
    "def plotStatus():\n",
    "    n = 100\n",
    "    xs = np.linspace(1,10,n).reshape((-1,1))\n",
    "    xsas = np.vstack((xs,xs,xs))\n",
    "    ones = np.ones((n,1))\n",
    "    xsas = np.hstack((xsas, np.vstack((ones*-1,ones*0,ones*1))))\n",
    "    ys = nnetQ.use(xsas)\n",
    "    ys = ys.reshape((n,3),order='F')\n",
    "    plt.subplot(3,3,1)\n",
    "    plt.plot(np.tile(xs,(1,3)),ys)\n",
    "    plt.ylabel('Q for each action')\n",
    "    plt.xlabel('State')\n",
    "    plt.legend(('Left','Stay','Right'))\n",
    "\n",
    "    plt.subplot(3,3,4)\n",
    "    plt.plot(xs,-1+np.argmax(ys,axis=1))\n",
    "    plt.ylabel('Action')\n",
    "    plt.xlabel('State')\n",
    "    plt.ylim(-1.1,1.1)\n",
    "\n",
    "    plt.subplot(3,3,7)\n",
    "    zs = nnetQ.use(np.hstack((xs,ones*-1)),allOutputs=True)\n",
    "    zs = zs[0]\n",
    "    ax = plt.gca()\n",
    "    ax.set_color_cycle(['b','g','r','k','c','m','y'])\n",
    "    plt.plot(np.tile(xs,(1,zs.shape[1])),zs,'--')\n",
    "    zs = nnetQ.use(np.hstack((xs,ones*1)),allOutputs=True)\n",
    "    zs = zs[0]\n",
    "    ax.set_color_cycle(['b','g','r','k','c','m','y'])\n",
    "    plt.plot(xs,zs)\n",
    "    zs = nnetQ.use(np.hstack((xs,ones*0)),allOutputs=True)\n",
    "    zs = zs[0]\n",
    "    ax.set_color_cycle(['b','g','r','k','c','m','y'])\n",
    "    plt.plot(xs,zs,linewidth=2)\n",
    "                    \n",
    "    plt.ylabel('Hidden Units for Action 0')\n",
    "    plt.xlabel('State')\n",
    "\n",
    "    plt.subplot(3,3,2)\n",
    "    x = xTrace[:j,0]\n",
    "    plt.plot(x)\n",
    "    plt.ylabel('x')\n",
    "    plt.xlabel('Steps')\n",
    "    y = x.copy()\n",
    "    y[y!=5] = np.nan\n",
    "    plt.plot(y,'ro')\n",
    "    plt.ylim(0,10)\n",
    "\n",
    "    plt.subplot(3,3,5)\n",
    "    plt.plot(epsilonTrace[:trial])\n",
    "    plt.ylabel(\"epsilon\")\n",
    "    plt.xlabel('Trials')\n",
    "    plt.ylim(0,1)\n",
    "\n",
    "    plt.subplot(3,3,8)\n",
    "    plt.plot(errorTrace)\n",
    "    plt.ylabel('TD Error')\n",
    "    plt.xlabel('SCG Iterations')\n",
    "                    \n",
    "    plt.subplot(3,3,3)\n",
    "    plt.plot(rTrace[:j,0])\n",
    "    plt.ylim(-1.1,0.1)\n",
    "    plt.ylabel('R')\n",
    "    plt.xlabel('Steps')\n",
    "                    \n",
    "    plt.subplot(3,3,6)\n",
    "    plt.plot(np.convolve(rTrace[:j,0],np.array([0.01]*100),mode='valid'))\n",
    "    plt.ylabel(\"R smoothed\")\n",
    "    plt.ylim(-1.1,0)\n",
    "    plt.xlabel('Steps')\n",
    "\n",
    "    plt.subplot(3,3,9)\n",
    "    nnetQ.draw(('x','a'),('Q'))\n",
    "    \n",
    "    plt.tight_layout()"
   ]
  },
  {
   "cell_type": "markdown",
   "metadata": {},
   "source": [
    "Now for the main loop.  Let's collect 500 interactions (steps) between each update to our nnet Q function.  And let's run for a total of 100 trials.  When updating our nnet Q function, let's let scg run for only 20 iterations."
   ]
  },
  {
   "cell_type": "code",
   "execution_count": 8,
   "metadata": {},
   "outputs": [
    {
     "name": "stdout",
     "output_type": "stream",
     "text": [
      "epsilonDecay is 0.995405417352\n"
     ]
    }
   ],
   "source": [
    "nTrials = 2000\n",
    "nStepsPerTrial = 10\n",
    "nSCGIterations = 10\n",
    "\n",
    "nHidden = 10\n",
    "gamma = 0.8\n",
    "finalEpsilon = 0.0001# value of epsilon at end of simulation. Decay rate is calculated\n",
    "\n",
    "epsilonDecay =  np.exp(np.log(finalEpsilon)/nTrials) # to produce this final value\n",
    "print('epsilonDecay is',epsilonDecay)"
   ]
  },
  {
   "cell_type": "code",
   "execution_count": 9,
   "metadata": {},
   "outputs": [
    {
     "data": {
      "image/png": "[encoded data removed]",
      "text/plain": [
       "<matplotlib.figure.Figure at 0x7f9172156a90>"
      ]
     },
     "metadata": {},
     "output_type": "display_data"
    }
   ],
   "source": [
    "from IPython.display import display, clear_output\n",
    "\n",
    "epsilon = 1\n",
    "\n",
    "nnetQ = nn.NeuralNetwork([2, nHidden, 1])\n",
    "nnetQ.setInputRanges(((1,10),(-1,1)))\n",
    "\n",
    "fig = plt.figure(figsize=(10,10))\n",
    "\n",
    "xTrace = np.zeros((nTrials*nStepsPerTrial,2)) # (x,a, r)\n",
    "rTrace = np.zeros((nTrials*nStepsPerTrial,1))\n",
    "errorTrace = []\n",
    "epsilonTrace = np.zeros((nTrials,1))\n",
    "\n",
    "for trial in range(nTrials):\n",
    "    X,R,Qn = makeSamples(nnetQ,  initialState, nextState, reinf, validActions, nStepsPerTrial, epsilon)\n",
    "    epsilon *= epsilonDecay\n",
    " \n",
    "    nnetQ.train(X, R + gamma*Qn, nIterations=nSCGIterations)\n",
    "    \n",
    "    epsilonTrace[trial] = epsilon\n",
    "    i = trial*nStepsPerTrial\n",
    "    j = i + nStepsPerTrial\n",
    "    xTrace[ i:j,:] = X\n",
    "    rTrace[i:j,:] = R\n",
    "    errorTrace = nnetQ.getErrorTrace()\n",
    "\n",
    "    # Rest of this loop is for plots.\n",
    "    if True and (trial+1) % int(nTrials*0.1+0.5) == 0:\n",
    "        \n",
    "        fig.clf()\n",
    "        plotStatus()\n",
    "        clear_output(wait=True)\n",
    "        display(fig)\n",
    "    \n",
    "clear_output(wait=True)"
   ]
  },
  {
   "cell_type": "code",
   "execution_count": null,
   "metadata": {},
   "outputs": [],
   "source": [
    "def run(nTrials,nStepsPerTrial,nSCG,nHidden,gamma, finalEpsilon):\n",
    "    epsilon = 1\n",
    "    epsilonDecay =  np.exp(np.log(finalEpsilon)/nTrials) # to produce this final value\n",
    "\n",
    "    nnetQ = nn.NeuralNetwork([2, nHidden, 1])\n",
    "    rSum = 0\n",
    "    for trial in range(nTrials):\n",
    "        X,R,Qn = makeSamples(nnetQ,  initialState, nextState, reinf, validActions, nStepsPerTrial, epsilon)\n",
    "        rSum += np.sum(R)\n",
    "        epsilon *= epsilonDecay\n",
    "        nnetQ.train(X, R + gamma*Qn, nIterations=nSCGIterations)\n",
    "        \n",
    "    return rSum / (nTrials * nStepsPerTrial)"
   ]
  },
  {
   "cell_type": "code",
   "execution_count": null,
   "metadata": {},
   "outputs": [
    {
     "name": "stdout",
     "output_type": "stream",
     "text": [
      "nT is 10\n",
      "nT is 100\n",
      "nT is 1000\n"
     ]
    }
   ],
   "source": [
    "import time\n",
    "start = time.time()\n",
    "result = []\n",
    "for nT in (10,100,1000):\n",
    "    print('nT is',nT)\n",
    "    for nS in (10,20,50,100):\n",
    "        for nSCG in (5,10,50,100):\n",
    "            for nH in (2,5,10,):\n",
    "                for g in (0.5,0.9):\n",
    "                    for fep in (0.0001,0.01,):\n",
    "                        r = run(nT,nS,nSCG, nH,g,fep)\n",
    "                        result.append([nT,nS,nSCG,nH,g,fep,r])\n",
    "                        # print(result[-1])\n",
    "print('Took', time.time() - start,'seconds')"
   ]
  },
  {
   "cell_type": "code",
   "execution_count": 21,
   "metadata": {},
   "outputs": [
    {
     "data": {
      "text/plain": [
       "(46.317, 'minutes')"
      ]
     },
     "execution_count": 21,
     "metadata": {},
     "output_type": "execute_result"
    }
   ],
   "source": [
    "2779/60, 'minutes'"
   ]
  },
  {
   "cell_type": "code",
   "execution_count": 19,
   "metadata": {},
   "outputs": [
    {
     "name": "stdout",
     "output_type": "stream",
     "text": [
      "Trials 1000 StepsPerTrial  20 nSCG 100 nHidden  5 g 0.9 ep 0.0001 r -0.44\n",
      "Trials 1000 StepsPerTrial  20 nSCG 100 nHidden 10 g 0.5 ep 0.0001 r -0.46\n",
      "Trials  100 StepsPerTrial  10 nSCG  50 nHidden 10 g 0.9 ep 0.0001 r -0.52\n",
      "Trials 1000 StepsPerTrial  50 nSCG  10 nHidden  2 g 0.5 ep 0.0001 r -0.52\n",
      "Trials 1000 StepsPerTrial  20 nSCG 100 nHidden 10 g 0.9 ep 0.0001 r -0.53\n",
      "Trials 1000 StepsPerTrial  50 nSCG 100 nHidden  5 g 0.5 ep 0.0001 r -0.53\n",
      "Trials 1000 StepsPerTrial 100 nSCG 100 nHidden  2 g 0.5 ep 0.0001 r -0.54\n",
      "Trials  100 StepsPerTrial  10 nSCG  10 nHidden  2 g 0.5 ep 0.0001 r -0.54\n",
      "Trials 1000 StepsPerTrial  50 nSCG   5 nHidden 10 g 0.5 ep 0.0001 r -0.54\n",
      "Trials 1000 StepsPerTrial  50 nSCG 100 nHidden 10 g 0.5 ep 0.0001 r -0.55\n",
      "Trials 1000 StepsPerTrial 100 nSCG  10 nHidden 10 g 0.5 ep 0.0001 r -0.55\n",
      "Trials 1000 StepsPerTrial  20 nSCG  10 nHidden 10 g 0.5 ep 0.0001 r -0.55\n",
      "Trials 1000 StepsPerTrial  20 nSCG   5 nHidden 10 g 0.5 ep 0.0001 r -0.55\n",
      "Trials 1000 StepsPerTrial 100 nSCG  50 nHidden  2 g 0.5 ep 0.0001 r -0.56\n",
      "Trials 1000 StepsPerTrial 100 nSCG  50 nHidden  5 g 0.9 ep 0.0001 r -0.56\n",
      "Trials 1000 StepsPerTrial  20 nSCG  50 nHidden 10 g 0.9 ep 0.0001 r -0.56\n",
      "Trials 1000 StepsPerTrial  50 nSCG   5 nHidden  5 g 0.5 ep 0.0001 r -0.56\n",
      "Trials 1000 StepsPerTrial  50 nSCG  50 nHidden 10 g 0.9 ep 0.0001 r -0.58\n",
      "Trials  100 StepsPerTrial 100 nSCG  50 nHidden  2 g 0.5 ep 0.0001 r -0.58\n",
      "Trials 1000 StepsPerTrial 100 nSCG   5 nHidden  2 g 0.5 ep 0.0001 r -0.58\n"
     ]
    }
   ],
   "source": [
    "result = np.array(result)\n",
    "order = np.argsort(-result[:,6])\n",
    "for o in result[order[:20],:]:\n",
    "    fmt = 'Trials {:4d} StepsPerTrial {:3d} nSCG {:3d} nHidden {:2d} g {:.1f} ep {:.4f} r {:.2f}'\n",
    "    print(fmt.format(int(o[0]),int(o[1]),int(o[2]),int(o[3]),o[4],o[5],o[6]))"
   ]
  },
  {
   "cell_type": "code",
   "execution_count": null,
   "metadata": {},
   "outputs": [],
   "source": []
  }
 ],
 "metadata": {
  "kernelspec": {
   "display_name": "Python 3",
   "language": "python",
   "name": "python3"
  },
  "language_info": {
   "codemirror_mode": {
    "name": "ipython",
    "version": 3
   },
   "file_extension": ".py",
   "mimetype": "text/x-python",
   "name": "python",
   "nbconvert_exporter": "python",
   "pygments_lexer": "ipython3",
   "version": "3.5.2"
  }
 },
 "nbformat": 4,
 "nbformat_minor": 1
}
